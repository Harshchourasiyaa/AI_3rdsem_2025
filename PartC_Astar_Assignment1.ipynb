{
 "cells": [
  {
   "cell_type": "markdown",
   "metadata": {},
   "source": [
    "# Part C – Programming Task\n",
    "\n",
    "### A* Search on a Maze\n",
    "In this notebook, we implement A* search for a maze represented as a 2D matrix:\n",
    "- `1 = wall`\n",
    "- `0 = path`\n",
    "- `A = start`\n",
    "- `B = goal`\n",
    "\n",
    "We test three heuristic cases:\n",
    "1. Manhattan distance (admissible, consistent)\n",
    "2. Manhattan distance × 1.5 (admissibility check)\n",
    "3. A heuristic that violates consistency\n"
   ]
  },
  {
   "cell_type": "code",
   "execution_count": 1,
   "metadata": {},
   "outputs": [],
   "source": [
    "import heapq\n",
    "import matplotlib.pyplot as plt\n",
    "import numpy as np\n",
    "\n",
    "# Maze example (5x5)\n",
    "# 0 = free cell, 1 = wall\n",
    "# We'll mark start (A) and goal (B) separately\n",
    "maze = [\n",
    "    [0, 0, 0, 1, 0, 0, 0, 1, 0],\n",
    "    [0, 1, 0, 0, 0, 1, 0, 0, 0],\n",
    "    [0, 1, 1, 1, 0, 0, 1, 0, 0],\n",
    "    [0, 0, 0, 0, 1, 0, 0, 0, 1],\n",
    "    [1, 1, 0, 1, 0, 0, 1, 0, 0],\n",
    "    [0, 0, 0, 0, 1, 1, 0, 0, 1],\n",
    "    [0, 1, 1, 0, 0, 0, 0, 1, 0],\n",
    "    [0, 0, 0, 1, 1, 0, 1, 0, 0],\n",
    "    [0, 1, 0, 0, 0, 0, 0, 0, 0]\n",
    "]\n",
    "\n",
    "\n",
    "start = (0, 0)  #A\n",
    "goal = (8, 8)   #B\n",
    "\n",
    "\n",
    "def manhattan(a, b):\n",
    "    return abs(a[0]-b[0]) + abs(a[1]-b[1])\n",
    "\n",
    "def astar(maze, start, goal, heuristic_fn):\n",
    "    rows, cols = len(maze), len(maze[0])\n",
    "    open_set = []\n",
    "    heapq.heappush(open_set, (0+heuristic_fn(start,goal), 0, start, [start]))\n",
    "    visited = {}\n",
    "    \n",
    "    while open_set:\n",
    "        f, g, node, path = heapq.heappop(open_set)\n",
    "        if node in visited and visited[node] <= g:\n",
    "            continue\n",
    "        visited[node] = g\n",
    "        if node == goal:\n",
    "            return path, g\n",
    "        for dx,dy in [(1,0),(-1,0),(0,1),(0,-1)]:\n",
    "            nx, ny = node[0]+dx, node[1]+dy\n",
    "            if 0<=nx<rows and 0<=ny<cols and maze[nx][ny]==0:\n",
    "                new_g = g+1\n",
    "                new_f = new_g + heuristic_fn((nx,ny), goal)\n",
    "                heapq.heappush(open_set,(new_f,new_g,(nx,ny), path+[(nx,ny)]))\n",
    "    return None, float('inf')\n",
    "\n",
    "def visualize_path(maze, path, start, goal, title):\n",
    "    arr = np.array(maze)\n",
    "    arr[start] = 2\n",
    "    arr[goal] = 3\n",
    "    fig, ax = plt.subplots(figsize=(5,5))\n",
    "    ax.imshow(arr, cmap='gray_r')\n",
    "    if path:\n",
    "        xs = [y for x,y in path]\n",
    "        ys = [x for x,y in path]\n",
    "        ax.plot(xs, ys, color='red', linewidth=2)\n",
    "    ax.set_title(title)\n",
    "    plt.show()\n"
   ]
  },
  {
   "cell_type": "markdown",
   "metadata": {},
   "source": [
    "## Case 1: Manhattan Distance (Admissible, Consistent)"
   ]
  },
  {
   "cell_type": "code",
   "execution_count": 2,
   "metadata": {},
   "outputs": [
    {
     "name": "stdout",
     "output_type": "stream",
     "text": [
      "Case 1: Manhattan distance\n",
      "Path: [(0, 0), (1, 0), (2, 0), (3, 0), (3, 1), (3, 2), (4, 2), (5, 2), (5, 3), (6, 3), (6, 4), (6, 5), (7, 5), (8, 5), (8, 6), (8, 7), (8, 8)]\n",
      "Cost: 16\n"
     ]
    },
    {
     "data": {
      "image/png": "[encoded data removed]",
      "text/plain": [
       "<Figure size 500x500 with 1 Axes>"
      ]
     },
     "metadata": {},
     "output_type": "display_data"
    }
   ],
   "source": [
    "path1, cost1 = astar(maze, start, goal, manhattan)\n",
    "print(\"Case 1: Manhattan distance\")\n",
    "print(\"Path:\", path1)\n",
    "print(\"Cost:\", cost1)\n",
    "visualize_path(maze, path1, start, goal, \"Case 1: Manhattan Distance\")\n"
   ]
  },
  {
   "cell_type": "markdown",
   "metadata": {},
   "source": [
    "## Case 2: Manhattan Distance × 1.5\n",
    "We check if multiplying the heuristic by 1.5 remains admissible."
   ]
  },
  {
   "cell_type": "code",
   "execution_count": 3,
   "metadata": {},
   "outputs": [
    {
     "name": "stdout",
     "output_type": "stream",
     "text": [
      "Case 2: Manhattan * 1.5\n",
      "Path: [(0, 0), (0, 1), (0, 2), (1, 2), (1, 3), (1, 4), (2, 4), (2, 5), (3, 5), (3, 6), (3, 7), (4, 7), (5, 7), (5, 6), (6, 6), (6, 5), (7, 5), (8, 5), (8, 6), (8, 7), (8, 8)]\n",
      "Cost: 20\n"
     ]
    },
    {
     "data": {
      "image/png": "[encoded data removed]",
      "text/plain": [
       "<Figure size 500x500 with 1 Axes>"
      ]
     },
     "metadata": {},
     "output_type": "display_data"
    },
    {
     "name": "stdout",
     "output_type": "stream",
     "text": [
      "Observation: Multiplying heuristic by 1.5 can overestimate true cost, so it is NOT admissible.\n"
     ]
    }
   ],
   "source": [
    "def heuristic_1_5(a,b):\n",
    "    return 1.5*manhattan(a,b)\n",
    "\n",
    "path2, cost2 = astar(maze, start, goal, heuristic_1_5)\n",
    "print(\"Case 2: Manhattan * 1.5\")\n",
    "print(\"Path:\", path2)\n",
    "print(\"Cost:\", cost2)\n",
    "visualize_path(maze, path2, start, goal, \"Case 2: Manhattan * 1.5\")\n",
    "print(\"Observation: Multiplying heuristic by 1.5 can overestimate true cost, so it is NOT admissible.\")\n"
   ]
  },
  {
   "cell_type": "markdown",
   "metadata": {},
   "source": [
    "## Case 3: Inconsistent Heuristic\n",
    "We define a heuristic that violates consistency: for node (0,0), we deliberately set h=10."
   ]
  },
  {
   "cell_type": "code",
   "execution_count": 4,
   "metadata": {},
   "outputs": [
    {
     "name": "stdout",
     "output_type": "stream",
     "text": [
      "Case 3: Inconsistent heuristic\n",
      "Path: [(0, 0), (1, 0), (2, 0), (3, 0), (3, 1), (3, 2), (4, 2), (5, 2), (5, 3), (6, 3), (6, 4), (6, 5), (7, 5), (8, 5), (8, 6), (8, 7), (8, 8)]\n",
      "Cost: 16\n"
     ]
    },
    {
     "data": {
      "image/png": "[encoded data removed]",
      "text/plain": [
       "<Figure size 500x500 with 1 Axes>"
      ]
     },
     "metadata": {},
     "output_type": "display_data"
    },
    {
     "name": "stdout",
     "output_type": "stream",
     "text": [
      "Observation: Heuristic is NOT admissible and also not consistent; this can mislead A* and cause wrong expansions or non-optimal paths.\n"
     ]
    }
   ],
   "source": [
    "def inconsistent_h(a,b):\n",
    "    if a == start:\n",
    "        return 10  # deliberately high, breaks admissibility & consistency\n",
    "    return manhattan(a,b)\n",
    "\n",
    "path3, cost3 = astar(maze, start, goal, inconsistent_h)\n",
    "print(\"Case 3: Inconsistent heuristic\")\n",
    "print(\"Path:\", path3)\n",
    "print(\"Cost:\", cost3)\n",
    "visualize_path(maze, path3, start, goal, \"Case 3: Inconsistent heuristic\")\n",
    "print(\"Observation: Heuristic is NOT admissible and also not consistent; \"\n",
    "      \"this can mislead A* and cause wrong expansions or non-optimal paths.\")\n"
   ]
  }
 ],
 "metadata": {
  "kernelspec": {
   "display_name": "Python 3",
   "language": "python",
   "name": "python3"
  },
  "language_info": {
   "codemirror_mode": {
    "name": "ipython",
    "version": 3
   },
   "file_extension": ".py",
   "mimetype": "text/x-python",
   "name": "python",
   "nbconvert_exporter": "python",
   "pygments_lexer": "ipython3",
   "version": "3.13.1"
  }
 },
 "nbformat": 4,
 "nbformat_minor": 5
}
